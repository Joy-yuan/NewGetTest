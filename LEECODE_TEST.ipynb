{
 "cells": [
  {
   "cell_type": "code",
   "execution_count": 63,
   "metadata": {},
   "outputs": [],
   "source": [
    "def rotate_string(originalString,direction_list,amount_list):\n",
    "\n",
    "    #loop over operations\n",
    "    for i in range(len(direction_list)):\n",
    "        \n",
    "        direction=direction_list[i]\n",
    "        amount=amount_list[i]\n",
    "        \n",
    "        new_string=list(range(len(originalString)))\n",
    "        \n",
    "        #toward left\n",
    "        for j in range(len(originalString)):\n",
    "            \n",
    "            if direction==1:\n",
    "            \n",
    "                #assign each letter to new position \n",
    "                new_index=j + amount % len(originalString)\n",
    "                \n",
    "            else:\n",
    "                new_index=j-amount % len(originalString) + len(originalString)\n",
    "                \n",
    "                if new_index > len(originalString)-1:\n",
    "                    print('new_index',new_index)\n",
    "                    new_index=new_index -len(originalString)\n",
    "                \n",
    "                new_string[new_index]=originalString[j]\n",
    "                \n",
    "\n",
    "        return new_string\n",
    "\n",
    " "
   ]
  },
  {
   "cell_type": "code",
   "execution_count": 72,
   "metadata": {},
   "outputs": [],
   "source": [
    "originalString='abc'\n",
    "direction_list=[0]\n",
    "amount_list=[5]"
   ]
  },
  {
   "cell_type": "code",
   "execution_count": 73,
   "metadata": {},
   "outputs": [
    {
     "name": "stdout",
     "output_type": "stream",
     "text": [
      "new_index 3\n"
     ]
    },
    {
     "data": {
      "text/plain": [
       "['c', 'a', 'b']"
      ]
     },
     "execution_count": 73,
     "metadata": {},
     "output_type": "execute_result"
    }
   ],
   "source": [
    "rotate_string(originalString,direction_list,amount_list)"
   ]
  },
  {
   "cell_type": "code",
   "execution_count": 75,
   "metadata": {},
   "outputs": [],
   "source": [
    "\n",
    "# abc --> bca --> cab --> abc\n",
    "# 012\n",
    "\n",
    "# bca\n",
    "# 012   1    4\n",
    "\n",
    "# cab   2    5\n",
    "# 012\n",
    "\n",
    "# abc   3    6\n",
    "# 012\n",
    "\n"
   ]
  },
  {
   "cell_type": "code",
   "execution_count": null,
   "metadata": {},
   "outputs": [],
   "source": []
  },
  {
   "cell_type": "code",
   "execution_count": 135,
   "metadata": {},
   "outputs": [],
   "source": [
    "## Find the rank\n",
    "def findTheRank(performance, rank):\n",
    "    #conver list of list into {list:index}\n",
    "    dic_={key: sum(marks) for key, marks in enumerate(performance)}\n",
    "    \n",
    "    #sort dict_by values:\n",
    "    sorted_dic={k: v for k, v in sorted(dic_.items(), key=lambda item: item[1],reverse=True)}\n",
    "    \n",
    "     \n",
    "    target_index=list(sorted_dic.keys())[rank-1]\n",
    "    \n",
    "    return target_index\n"
   ]
  },
  {
   "cell_type": "code",
   "execution_count": 136,
   "metadata": {},
   "outputs": [],
   "source": [
    "performance=[[79,89,15],[85,89,92],[71,96,88]]\n",
    "rank=2"
   ]
  },
  {
   "cell_type": "code",
   "execution_count": 137,
   "metadata": {},
   "outputs": [
    {
     "data": {
      "text/plain": [
       "2"
      ]
     },
     "execution_count": 137,
     "metadata": {},
     "output_type": "execute_result"
    }
   ],
   "source": [
    "findTheRank(performance, rank)"
   ]
  },
  {
   "cell_type": "code",
   "execution_count": null,
   "metadata": {},
   "outputs": [],
   "source": []
  },
  {
   "cell_type": "code",
   "execution_count": null,
   "metadata": {},
   "outputs": [],
   "source": []
  },
  {
   "cell_type": "code",
   "execution_count": 185,
   "metadata": {},
   "outputs": [],
   "source": [
    "def strangeSort(mapping,nums):\n",
    "    \n",
    "    #write a function a change '990' into 668\n",
    "    def convert_number(old_num,mapping):\n",
    "            new_num=str()\n",
    "            for digit in old_num:\n",
    "                \n",
    "                #get its position in mapping\n",
    "                position_in_mapping= mapping.index(float(digit))\n",
    "                new_num=new_num+str(position_in_mapping)\n",
    "\n",
    "            return int(new_num)\n",
    "            \n",
    "\n",
    "    #create dict: key is \"990\", and values is 668\n",
    "    dic_={key:convert_number(key,mapping) for key in nums}\n",
    "    \n",
    "    ##sort dict by values\n",
    "    sorted_dic={k: v for k, v in sorted(dic_.items(), key=lambda item: item[1])}\n",
    "    \n",
    "    #return a list of keys\n",
    "    return list(sorted_dic.keys())\n",
    "    "
   ]
  },
  {
   "cell_type": "code",
   "execution_count": 186,
   "metadata": {},
   "outputs": [],
   "source": [
    "mapping=[3,5,4,6,2,7,9,8,0,1]\n",
    "nums=['990','332','32']"
   ]
  },
  {
   "cell_type": "code",
   "execution_count": 187,
   "metadata": {},
   "outputs": [
    {
     "data": {
      "text/plain": [
       "['332', '32', '990']"
      ]
     },
     "execution_count": 187,
     "metadata": {},
     "output_type": "execute_result"
    }
   ],
   "source": [
    "strangeSort(mapping,nums)"
   ]
  },
  {
   "cell_type": "code",
   "execution_count": null,
   "metadata": {},
   "outputs": [],
   "source": []
  },
  {
   "cell_type": "code",
   "execution_count": null,
   "metadata": {},
   "outputs": [],
   "source": []
  },
  {
   "cell_type": "code",
   "execution_count": 216,
   "metadata": {},
   "outputs": [],
   "source": [
    "def stringFormattedWeeklyPirces(dailyPrice):\n",
    "    import statistics \n",
    "    \n",
    "    result_list=[]\n",
    "    \n",
    "    for i in range(len(dailyPrice)-6):\n",
    "        \n",
    "        average=statistics.mean(dailyPrice[i : i+7])\n",
    "        \n",
    "        average= \"{:.2f}\".format(average)\n",
    "        \n",
    "        result_list.append(average)\n",
    "        \n",
    "    return result_list\n"
   ]
  },
  {
   "cell_type": "code",
   "execution_count": 220,
   "metadata": {},
   "outputs": [],
   "source": [
    "dailyPrice=[1,1,1,1,1,1,1,7,7,7,7,7,7,7]"
   ]
  },
  {
   "cell_type": "code",
   "execution_count": 221,
   "metadata": {},
   "outputs": [
    {
     "data": {
      "text/plain": [
       "['1.00', '1.86', '2.71', '3.57', '4.43', '5.29', '6.14', '7.00']"
      ]
     },
     "execution_count": 221,
     "metadata": {},
     "output_type": "execute_result"
    }
   ],
   "source": [
    "stringFormattedWeeklyPirces(dailyPrice)"
   ]
  },
  {
   "cell_type": "code",
   "execution_count": null,
   "metadata": {},
   "outputs": [],
   "source": []
  },
  {
   "cell_type": "code",
   "execution_count": null,
   "metadata": {},
   "outputs": [],
   "source": []
  },
  {
   "cell_type": "code",
   "execution_count": 416,
   "metadata": {},
   "outputs": [],
   "source": [
    "def gridGame(grid,k,rules):\n",
    "    \n",
    "    #get size of grid:\n",
    "    n=len(grid)\n",
    "    m=len(grid[0])\n",
    "    \n",
    "\n",
    "    \n",
    "    ##get rules\n",
    "    rules_list=[]\n",
    "    for index in range(len(rules)):\n",
    "        if rules[index]==1:\n",
    "            rules_list.append(index)\n",
    "    \n",
    "    print(rules_list)\n",
    "    \n",
    "    ##loop over all steps\n",
    "    for step in range(k):\n",
    "        new_grid=[[0 for i in range(m)] for i in range(n)]\n",
    "        \n",
    "        ##loop over all cells\n",
    "        for i in range(n):\n",
    "            for j in range(m):\n",
    "               \n",
    "                cell_value=grid[i][j]\n",
    "                print('cell:',i,j,cell_value)\n",
    "\n",
    "                ##loop over all neibors of that cell including itself\n",
    "                neighbor_sum=0\n",
    "                for p in range(max(i-1,0), min(i+2,n)):\n",
    "                    \n",
    "                    \n",
    "                    for q in range(max(j-1,0), min(j+2,m)):\n",
    "\n",
    "                        #get this neibor's vlaue\n",
    "                        neighbor_value=grid[p][q]\n",
    "#                         print('p,q,neighbor:',p,q,neighbor_value)  \n",
    "                        \n",
    "                        neighbor_sum+=neighbor_value\n",
    "                \n",
    "                if cell_value==1:\n",
    "\n",
    "\n",
    "                    neighbor_sum-=1\n",
    "                    \n",
    "                print('neighbor_sum',neighbor_sum)\n",
    "\n",
    "\n",
    "                ##if sum matches rules, convert cneter cell to 1\n",
    "                if neighbor_sum in rules_list:\n",
    "                    print('center',i,j)\n",
    "                    new_grid[i][j]=1\n",
    "                    print(\"new_grid_after\",new_grid)\n",
    "                else:\n",
    "                    new_grid[i][j]=0\n",
    "                    print(\"new_grid_after\",new_grid)\n",
    "                    pass\n",
    "                \n",
    "                \n",
    "                \n",
    "        grid=new_grid.copy()\n",
    "    return new_grid\n",
    "\n",
    "    "
   ]
  },
  {
   "cell_type": "code",
   "execution_count": 417,
   "metadata": {},
   "outputs": [],
   "source": []
  },
  {
   "cell_type": "code",
   "execution_count": 418,
   "metadata": {},
   "outputs": [
    {
     "name": "stdout",
     "output_type": "stream",
     "text": [
      "[3, 5]\n",
      "cell: 0 0 0\n",
      "neighbor_sum 3\n",
      "center 0 0\n",
      "new_grid_after [[1, 0, 0, 0], [0, 0, 0, 0]]\n",
      "cell: 0 1 1\n",
      "neighbor_sum 3\n",
      "center 0 1\n",
      "new_grid_after [[1, 1, 0, 0], [0, 0, 0, 0]]\n",
      "cell: 0 2 1\n",
      "neighbor_sum 2\n",
      "new_grid_after [[1, 1, 0, 0], [0, 0, 0, 0]]\n",
      "cell: 0 3 0\n",
      "neighbor_sum 1\n",
      "new_grid_after [[1, 1, 0, 0], [0, 0, 0, 0]]\n",
      "cell: 1 0 1\n",
      "neighbor_sum 2\n",
      "new_grid_after [[1, 1, 0, 0], [0, 0, 0, 0]]\n",
      "cell: 1 1 1\n",
      "neighbor_sum 3\n",
      "center 1 1\n",
      "new_grid_after [[1, 1, 0, 0], [0, 1, 0, 0]]\n",
      "cell: 1 2 0\n",
      "neighbor_sum 3\n",
      "center 1 2\n",
      "new_grid_after [[1, 1, 0, 0], [0, 1, 1, 0]]\n",
      "cell: 1 3 0\n",
      "neighbor_sum 1\n",
      "new_grid_after [[1, 1, 0, 0], [0, 1, 1, 0]]\n",
      "cell: 0 0 1\n",
      "neighbor_sum 2\n",
      "new_grid_after [[0, 0, 0, 0], [0, 0, 0, 0]]\n",
      "cell: 0 1 1\n",
      "neighbor_sum 3\n",
      "center 0 1\n",
      "new_grid_after [[0, 1, 0, 0], [0, 0, 0, 0]]\n",
      "cell: 0 2 0\n",
      "neighbor_sum 3\n",
      "center 0 2\n",
      "new_grid_after [[0, 1, 1, 0], [0, 0, 0, 0]]\n",
      "cell: 0 3 0\n",
      "neighbor_sum 1\n",
      "new_grid_after [[0, 1, 1, 0], [0, 0, 0, 0]]\n",
      "cell: 1 0 0\n",
      "neighbor_sum 3\n",
      "center 1 0\n",
      "new_grid_after [[0, 1, 1, 0], [1, 0, 0, 0]]\n",
      "cell: 1 1 1\n",
      "neighbor_sum 3\n",
      "center 1 1\n",
      "new_grid_after [[0, 1, 1, 0], [1, 1, 0, 0]]\n",
      "cell: 1 2 1\n",
      "neighbor_sum 2\n",
      "new_grid_after [[0, 1, 1, 0], [1, 1, 0, 0]]\n",
      "cell: 1 3 0\n",
      "neighbor_sum 1\n",
      "new_grid_after [[0, 1, 1, 0], [1, 1, 0, 0]]\n"
     ]
    },
    {
     "data": {
      "text/plain": [
       "[[0, 1, 1, 0], [1, 1, 0, 0]]"
      ]
     },
     "execution_count": 418,
     "metadata": {},
     "output_type": "execute_result"
    }
   ],
   "source": [
    "grid=[[0,1,1,0],[1,1,0,0]] ## n=2 rows and m=4 columns\n",
    "k=2\n",
    "rules=[0,0,0,1,0,1,0,0,0]\n",
    "\n",
    "gridGame(grid,k,rules)"
   ]
  },
  {
   "cell_type": "code",
   "execution_count": null,
   "metadata": {},
   "outputs": [],
   "source": []
  },
  {
   "cell_type": "code",
   "execution_count": 373,
   "metadata": {},
   "outputs": [],
   "source": [
    "def minWindow(string, pat):\n",
    "        no_of_chars = 256\n",
    "\n",
    "  \n",
    "        len1 = len(string)  \n",
    "        len2 = len(pat)  \n",
    "\n",
    "        # check if string's length is less than pattern'slength. \n",
    "        #If yes then no such window can exist  \n",
    "        if len1 < len2:  \n",
    "\n",
    "            print(\"No such window exists\")  \n",
    "            return \"\"  \n",
    "\n",
    "        hash_pat = [0] * no_of_chars \n",
    "        hash_str = [0] * no_of_chars  \n",
    "\n",
    "        # store occurrence ofs characters of pattern  \n",
    "        for i in range(0, len2):  \n",
    "            hash_pat[ord(pat[i])] += 1\n",
    "\n",
    "        start, start_index, min_len = 0, -1, float('inf')  \n",
    "\n",
    "        # start traversing the string  \n",
    "        count = 0 # count of characters  \n",
    "        for j in range(0, len1):  \n",
    "\n",
    "            # count occurrence of characters of string  \n",
    "            hash_str[ord(string[j])] += 1\n",
    "\n",
    "            # If string's char matches with  \n",
    "            # pattern's char then increment count  \n",
    "            if (hash_pat[ord(string[j])] != 0 and\n",
    "                hash_str[ord(string[j])] <= \n",
    "                hash_pat[ord(string[j])]):  \n",
    "                count += 1\n",
    "\n",
    "            # if all the characters are matched  \n",
    "            if count == len2:  \n",
    "\n",
    "                # Try to minimize the window i.e., check if  \n",
    "                # any character is occurring more no. of times  \n",
    "                # than its occurrence in pattern, if yes  \n",
    "                # then remove it from starting and also remove  \n",
    "                # the useless characters.  \n",
    "                while (hash_str[ord(string[start])] >  \n",
    "                       hash_pat[ord(string[start])] or\n",
    "                       hash_pat[ord(string[start])] == 0):  \n",
    "\n",
    "                    if (hash_str[ord(string[start])] >  \n",
    "                        hash_pat[ord(string[start])]):  \n",
    "                        hash_str[ord(string[start])] -= 1\n",
    "                    start += 1\n",
    "\n",
    "                # update window size  \n",
    "                len_window = j - start + 1\n",
    "                if min_len > len_window:  \n",
    "\n",
    "                    min_len = len_window  \n",
    "                    start_index = start \n",
    "                    print(string[start_index:j+1])\n",
    "\n",
    "        # If no window found  \n",
    "        if start_index == -1: \n",
    "            print(\"No such window exists\")  \n",
    "            return \"\"  \n",
    "\n",
    "        # Return substring starting from  \n",
    "        # start_index and length min_len  \n",
    "        return string[start_index : start_index + min_len] "
   ]
  },
  {
   "cell_type": "code",
   "execution_count": 374,
   "metadata": {},
   "outputs": [],
   "source": [
    "string=\"ADOBECODEBANC\"\n",
    "pat = \"ABC\""
   ]
  },
  {
   "cell_type": "code",
   "execution_count": 375,
   "metadata": {},
   "outputs": [
    {
     "name": "stdout",
     "output_type": "stream",
     "text": [
      "ADOBEC\n",
      "BANC\n"
     ]
    },
    {
     "data": {
      "text/plain": [
       "'BANC'"
      ]
     },
     "execution_count": 375,
     "metadata": {},
     "output_type": "execute_result"
    }
   ],
   "source": [
    "minWindow(string, pat)"
   ]
  },
  {
   "cell_type": "code",
   "execution_count": 385,
   "metadata": {},
   "outputs": [],
   "source": [
    "new_grid=[[0]*4]*2"
   ]
  },
  {
   "cell_type": "code",
   "execution_count": 387,
   "metadata": {},
   "outputs": [
    {
     "data": {
      "text/plain": [
       "True"
      ]
     },
     "execution_count": 387,
     "metadata": {},
     "output_type": "execute_result"
    }
   ],
   "source": [
    "new_grid==[[0,0,0,0],[0,0,0,0]]"
   ]
  },
  {
   "cell_type": "code",
   "execution_count": 412,
   "metadata": {},
   "outputs": [
    {
     "data": {
      "text/plain": [
       "[[0, 0, 0, 0], [0, 0, 0, 0]]"
      ]
     },
     "execution_count": 412,
     "metadata": {},
     "output_type": "execute_result"
    }
   ],
   "source": [
    "n=2\n",
    "m=4\n",
    "x = [[0 for i in range(m)] for i in range(n)]\n",
    "x"
   ]
  },
  {
   "cell_type": "code",
   "execution_count": null,
   "metadata": {},
   "outputs": [],
   "source": [
    " # Write your code here\n",
    "    left_index=0\n",
    "    right_index=2\n",
    "    \n",
    "    total_num=0\n",
    "    total_list=[]\n",
    "    #loop over all char\n",
    "    while left_index<right_index:\n",
    "        substring=s[left_index:right_index+1]\n",
    "        if ('A' in substring) and ('B' in substring) and ('C' in substring):\n",
    "            total_list.append(substring)\n",
    "            for index in range(right_index+1,len(s)):\n",
    "                substring=s[left_index:index+1]\n",
    "                total_list.append(substring)\n",
    "\n",
    "                if index==len(s)-1:\n",
    "                    left_index=left_index+1\n",
    "        else:\n",
    "            right_index=right_index+1\n",
    "\n",
    "            \n",
    "\n",
    "\n"
   ]
  },
  {
   "cell_type": "code",
   "execution_count": 424,
   "metadata": {},
   "outputs": [
    {
     "data": {
      "text/plain": [
       "['ABC',\n",
       " 'ABCA',\n",
       " 'ABCAL',\n",
       " 'ABCALK',\n",
       " 'BCA',\n",
       " 'BCAL',\n",
       " 'BCALK',\n",
       " 'CAL',\n",
       " 'CALK',\n",
       " 'ALK']"
      ]
     },
     "execution_count": 424,
     "metadata": {},
     "output_type": "execute_result"
    }
   ],
   "source": [
    "# Get all substrings of string \n",
    "# Using list comprehension + string slicing \n",
    "\n",
    "s='ABCALK'\n",
    "\n",
    "res = [s[i: j] for i in range(len(s)) \n",
    "          for j in range(i + 1, len(s) + 1) if len(s[i: j])>=3] \n",
    "\n",
    "new_res=[string for string in res if ('A' in string) and ('B' in string) and ('C' in string)]\n",
    "\n",
    "res"
   ]
  },
  {
   "cell_type": "code",
   "execution_count": null,
   "metadata": {},
   "outputs": [],
   "source": []
  },
  {
   "cell_type": "code",
   "execution_count": 472,
   "metadata": {},
   "outputs": [],
   "source": [
    "def gridGame(grid, k, rules):\n",
    "    #get size of grid:\n",
    "    n=len(grid)\n",
    "    m=len(grid[0])\n",
    "\n",
    "    ##get rules\n",
    "    rules_list=[]\n",
    "    for index in range(len(rules)):\n",
    "        if rules[index]=='alive':\n",
    "            rules_list.append(index)\n",
    "    \n",
    "    print(rules_list)\n",
    "    \n",
    "    ##loop over all steps\n",
    "    for step in range(k):\n",
    "#         new_grid=[[0 for i in range(m)] for i in range(n)]\n",
    "        \n",
    "        ##loop over all cells\n",
    "        for i in range(n):\n",
    "            for j in range(m):\n",
    "               \n",
    "                cell_value=grid[i][j]\n",
    "                print('cell:',i,j,cell_value)\n",
    "\n",
    "                ##loop over all neibors of that cell including itself\n",
    "                neighbor_sum=0\n",
    "                for p in range(max(i-1,0), min(i+2,n)):\n",
    "\n",
    "                    for q in range(max(j-1,0), min(j+2,m)):\n",
    "\n",
    "                        #get this neibor's vlaue\n",
    "                        neighbor_value=grid[p][q]                        \n",
    "                        neighbor_sum+=neighbor_value\n",
    "                \n",
    "                if cell_value==1:\n",
    "                    neighbor_sum-=1\n",
    "                    \n",
    "                print('neighbor_sum',neighbor_sum)\n",
    "\n",
    "\n",
    "                ##if sum matches rules, convert cneter cell to 1\n",
    "                if neighbor_sum in rules_list:\n",
    "#                     grid[i][j]=1\n",
    "\n",
    "                    grid[i][j]= 0b10\n",
    "                    print(\"new_grid_after\",grid)\n",
    "                else:\n",
    "#                    grid[i][j]|= 0b20\n",
    "                    print(\"new_grid_after\",grid)\n",
    "                    pass\n",
    "                \n",
    "    for i in range(n):\n",
    "        for j in range(m):\n",
    "            grid[i][j]>>= 1\n",
    "            \n",
    "                \n",
    "#         grid=new_grid.copy()\n",
    "    return grid\n"
   ]
  },
  {
   "cell_type": "code",
   "execution_count": 473,
   "metadata": {},
   "outputs": [
    {
     "name": "stdout",
     "output_type": "stream",
     "text": [
      "[3, 5]\n",
      "cell: 0 0 0\n",
      "neighbor_sum 3\n",
      "new_grid_after [[2, 1, 1, 0], [1, 1, 0, 0]]\n",
      "cell: 0 1 1\n",
      "neighbor_sum 5\n",
      "new_grid_after [[2, 2, 1, 0], [1, 1, 0, 0]]\n",
      "cell: 0 2 1\n",
      "neighbor_sum 3\n",
      "new_grid_after [[2, 2, 2, 0], [1, 1, 0, 0]]\n",
      "cell: 0 3 0\n",
      "neighbor_sum 2\n",
      "new_grid_after [[2, 2, 2, 0], [1, 1, 0, 0]]\n",
      "cell: 1 0 1\n",
      "neighbor_sum 5\n",
      "new_grid_after [[2, 2, 2, 0], [2, 1, 0, 0]]\n",
      "cell: 1 1 1\n",
      "neighbor_sum 8\n",
      "new_grid_after [[2, 2, 2, 0], [2, 1, 0, 0]]\n",
      "cell: 1 2 0\n",
      "neighbor_sum 5\n",
      "new_grid_after [[2, 2, 2, 0], [2, 1, 2, 0]]\n",
      "cell: 1 3 0\n",
      "neighbor_sum 4\n",
      "new_grid_after [[2, 2, 2, 0], [2, 1, 2, 0]]\n",
      "cell: 0 0 2\n",
      "neighbor_sum 7\n",
      "new_grid_after [[2, 2, 2, 0], [2, 1, 2, 0]]\n",
      "cell: 0 1 2\n",
      "neighbor_sum 11\n",
      "new_grid_after [[2, 2, 2, 0], [2, 1, 2, 0]]\n",
      "cell: 0 2 2\n",
      "neighbor_sum 7\n",
      "new_grid_after [[2, 2, 2, 0], [2, 1, 2, 0]]\n",
      "cell: 0 3 0\n",
      "neighbor_sum 4\n",
      "new_grid_after [[2, 2, 2, 0], [2, 1, 2, 0]]\n",
      "cell: 1 0 2\n",
      "neighbor_sum 7\n",
      "new_grid_after [[2, 2, 2, 0], [2, 1, 2, 0]]\n",
      "cell: 1 1 1\n",
      "neighbor_sum 10\n",
      "new_grid_after [[2, 2, 2, 0], [2, 1, 2, 0]]\n",
      "cell: 1 2 2\n",
      "neighbor_sum 7\n",
      "new_grid_after [[2, 2, 2, 0], [2, 1, 2, 0]]\n",
      "cell: 1 3 0\n",
      "neighbor_sum 4\n",
      "new_grid_after [[2, 2, 2, 0], [2, 1, 2, 0]]\n"
     ]
    },
    {
     "data": {
      "text/plain": [
       "[[1, 1, 1, 0], [1, 0, 1, 0]]"
      ]
     },
     "execution_count": 473,
     "metadata": {},
     "output_type": "execute_result"
    }
   ],
   "source": [
    "grid=[[0,1,1,0],[1,1,0,0]] ## n=2 rows and m=4 columns\n",
    "k=2\n",
    "rules=['dead','dead','dead','alive','dead','alive','dead','dead','dead']\n",
    "\n",
    "gridGame(grid,k,rules)"
   ]
  },
  {
   "cell_type": "code",
   "execution_count": null,
   "metadata": {},
   "outputs": [],
   "source": []
  },
  {
   "cell_type": "code",
   "execution_count": null,
   "metadata": {},
   "outputs": [],
   "source": []
  },
  {
   "cell_type": "code",
   "execution_count": null,
   "metadata": {},
   "outputs": [],
   "source": []
  }
 ],
 "metadata": {
  "kernelspec": {
   "display_name": "Python 3",
   "language": "python",
   "name": "python3"
  },
  "language_info": {
   "codemirror_mode": {
    "name": "ipython",
    "version": 3
   },
   "file_extension": ".py",
   "mimetype": "text/x-python",
   "name": "python",
   "nbconvert_exporter": "python",
   "pygments_lexer": "ipython3",
   "version": "3.7.4"
  },
  "toc": {
   "base_numbering": 1,
   "nav_menu": {},
   "number_sections": true,
   "sideBar": true,
   "skip_h1_title": false,
   "title_cell": "Table of Contents",
   "title_sidebar": "Contents",
   "toc_cell": false,
   "toc_position": {},
   "toc_section_display": true,
   "toc_window_display": false
  }
 },
 "nbformat": 4,
 "nbformat_minor": 2
}
